{
 "nbformat": 4,
 "nbformat_minor": 0,
 "metadata": {
  "colab": {
   "name": "Copy of Fisher Information.ipynb",
   "provenance": [],
   "collapsed_sections": []
  },
  "kernelspec": {
   "name": "python3",
   "language": "python",
   "display_name": "Python 3"
  }
 },
 "cells": [
  {
   "cell_type": "code",
   "metadata": {
    "id": "-BF0t_Z7biEK"
   },
   "source": [
    "import torch                                                                \n",
    "import torch.nn as nn\n",
    "import numpy as np\n",
    "import matplotlib.pyplot as plt\n",
    "import torch.nn.functional as F\n",
    "import numpy as np"
   ],
   "execution_count": 34,
   "outputs": []
  },
  {
   "cell_type": "code",
   "execution_count": 35,
   "outputs": [],
   "source": [
    "def jacobian(y, x, create_graph=False):                                                               \n",
    "    jac = []                                                                                          \n",
    "    flat_y = y.reshape(-1)                                                                            \n",
    "    grad_y = torch.zeros_like(flat_y)                                                                 \n",
    "    for i in range(len(flat_y)):                                                                      \n",
    "        grad_y[i] = 1.                                                                                \n",
    "        grad_x, = torch.autograd.grad(flat_y, x, grad_y, retain_graph=True, create_graph=create_graph)\n",
    "        jac.append(grad_x.reshape(x.shape))                                                           \n",
    "        grad_y[i] = 0.                                                                                \n",
    "    return torch.stack(jac).reshape(y.shape + x.shape)                                                \n",
    "                                                                                                      \n",
    "def hessian(y, x):                                                                                    \n",
    "    return jacobian(jacobian(y, x, create_graph=True), x)  \n",
    "\n",
    "def fisher(y,x):\n",
    "    j = jacobian(y, x, create_graph=True)\n",
    "\n",
    "    return torch.outer(j,j)                                        \n",
    "                                                                                                      \n",
    "\n"
   ],
   "metadata": {
    "collapsed": false,
    "pycharm": {
     "name": "#%%\n"
    }
   }
  },
  {
   "cell_type": "code",
   "metadata": {
    "colab": {
     "base_uri": "https://localhost:8080/",
     "height": 1000
    },
    "id": "et7o54WoZvmx",
    "outputId": "5d7dd0e3-5a8a-485b-f578-70018fa9a3ab"
   },
   "source": [
    "def create_data(n_samples):\n",
    "    X0 = torch.tensor(np.array([[np.random.normal(loc=-1, scale=1),\n",
    "                    np.random.normal(loc=1, scale=1),\n",
    "                    np.random.normal(loc=-1, scale=1),\n",
    "                    np.random.normal(loc=1, scale=1)] for i in range(n_samples//2)]),requires_grad=False)\n",
    "\n",
    "\n",
    "    X1 = torch.tensor(np.array([[np.random.normal(loc=1, scale=1),\n",
    "                    np.random.normal(loc=-1, scale=1),\n",
    "                    np.random.normal(loc=1, scale=1),\n",
    "                    np.random.normal(loc=-1, scale=1)] for i in range(n_samples//2)]),requires_grad=False)\n",
    "\n",
    "    X = torch.cat((X0, X1),0)\n",
    "\n",
    "    Y = torch.cat((torch.tensor(np.array([[1,0] for i in range(n_samples//2)])),\n",
    "                   torch.tensor(np.array([[0,1] for i in range(n_samples//2)]))), 0)\n",
    "\n",
    "    data = list(zip(X, Y))\n",
    "    return data"
   ],
   "execution_count": 36,
   "outputs": []
  },
  {
   "cell_type": "code",
   "execution_count": 37,
   "outputs": [],
   "source": [
    "def loss_single(prediction,label):\n",
    "  delta = prediction-label\n",
    "  return torch.dot(delta,delta)*1\n",
    "\n",
    "def model(x,w):\n",
    "  sig = nn.Sigmoid()\n",
    "\n",
    "  layer_1 = torch.split(w,[16,24])\n",
    "  w_1 = layer_1[0].reshape(4,4)\n",
    "  x = sig(torch.matmul(x,w_1))\n",
    "\n",
    "  layer_2 = torch.split(layer_1[1],[16,8])\n",
    "  w_2 = layer_2[0].reshape(4,4)\n",
    "  x = sig(torch.matmul(x,w_2))\n",
    "\n",
    "  w_3 = layer_2[1].reshape(4,2)\n",
    "  x = torch.matmul(x,w_3)\n",
    "  return x\n",
    "\n",
    "def loss_avg(data,w):\n",
    "  n_samples=len(data)\n",
    "  loss_tot = 0\n",
    "  Fisher = torch.zeros((40,40))\n",
    "  for x,y in data:\n",
    "      prediction = model(x,w)\n",
    "      #loss_tot += loss_single(F.softmax(prediction),y)\n",
    "      loss_tot += F.cross_entropy(prediction.view(1,2),y[1].view(1,))\n",
    "      Fisher += fisher(loss_single(prediction,y),w)\n",
    "  #print(Fisher)\n",
    "  return loss_tot,Fisher/n_samples"
   ],
   "metadata": {
    "collapsed": false,
    "pycharm": {
     "name": "#%%\n"
    }
   }
  },
  {
   "cell_type": "code",
   "execution_count": 38,
   "outputs": [],
   "source": [
    "def sample_theta_for_fisher(n_iter,data,plots=False):\n",
    "    EV = []\n",
    "    FR = []\n",
    "    Rank = []\n",
    "    all_w = []\n",
    "    all_fishers=[]\n",
    "    for i in range(n_iter):\n",
    "      print('Sample ',i,end='\\r')\n",
    "      w = torch.tensor(np.random.uniform(size=(40,),low=-1.0,high=1.0),requires_grad=True)\n",
    "      total_loss, Fisher = loss_avg(data,w)\n",
    "      EV = np.append(EV,torch.eig(Fisher, eigenvectors=False,  out=None)[0][:,0].detach().numpy())\n",
    "      with torch.no_grad():\n",
    "        Rank.append(torch.matrix_rank(Fisher).item())\n",
    "        Fw = np.matmul(Fisher.numpy(),w.numpy())\n",
    "        wFw = np.dot(w,Fw)\n",
    "        FR.append(wFw)\n",
    "        all_w.append(w)\n",
    "        all_fishers.append(Fisher)\n",
    "    if plots:\n",
    "        print(\"Fisher\")\n",
    "        x, bins, p=plt.hist(EV, bins=None,range=None)\n",
    "        for item in p:\n",
    "          item.set_height(item.get_height()/(40*n_iter))\n",
    "        plt.ylim(0,1)\n",
    "        plt.title(\"Sigmoid\")\n",
    "        plt.show()\n",
    "\n",
    "        plt.hist(Rank)\n",
    "        plt.title('matrix ranks for all Fisher')\n",
    "        plt.show()\n",
    "        plt.hist(FR)\n",
    "        plt.title('Fisher-Rao norm for all Fisher')\n",
    "        plt.show()\n",
    "\n",
    "    return EV,FR,Rank,all_w,all_fishers"
   ],
   "metadata": {
    "collapsed": false,
    "pycharm": {
     "name": "#%%\n"
    }
   }
  },
  {
   "cell_type": "markdown",
   "metadata": {
    "id": "PKn1aiV0U5X-"
   },
   "source": [
    "## Calculating Effective Dimension"
   ]
  },
  {
   "cell_type": "code",
   "metadata": {
    "id": "JnDIfRofM7hm"
   },
   "source": [
    "#Function to normalise Fisher informations\n",
    "def normalise_fishers(Fishers,thetas,d,V):\n",
    "  num_samples = len(Fishers)\n",
    "\n",
    "  TrF_integral = (1/num_samples) * torch.sum(torch.tensor([torch.trace(F) for F in Fishers]))\n",
    "  return [((d*V)/TrF_integral)*F for F in Fishers]\n"
   ],
   "execution_count": 39,
   "outputs": []
  },
  {
   "cell_type": "code",
   "metadata": {
    "id": "8O47wTEAU4E2"
   },
   "source": [
    "#Function to calculate effective dimension\n",
    "def effective_dimension(normed_fishers,n):\n",
    "  d = 40\n",
    "  V_theta = 1\n",
    "  gamma = 1\n",
    "  id = torch.eye(d)\n",
    "  kappa = torch.tensor([(gamma*n)/(2*np.pi*np.log(n))])\n",
    "  integral = torch.tensor([0.0])\n",
    "  for F in normed_fishers:\n",
    "    det = torch.det(id + kappa*F)\n",
    "    integral += torch.sqrt(torch.det(id + kappa*F))\n",
    "  integral_over_volume = integral/V_theta\n",
    "  numerator = torch.log(integral_over_volume)\n",
    "  return 2*numerator/torch.log(kappa)\n",
    "    \n",
    "  "
   ],
   "execution_count": 40,
   "outputs": []
  },
  {
   "cell_type": "code",
   "metadata": {
    "colab": {
     "base_uri": "https://localhost:8080/"
    },
    "id": "x_RqWLcQLF9m",
    "outputId": "c83b91a0-6c92-4fba-c1af-8589142fdb4c",
    "pycharm": {
     "name": "#%%\n"
    }
   },
   "source": [
    "data = create_data(100)\n",
    "EV,FR,Rank,all_w,all_fishers = sample_theta_for_fisher(100,data,plots=True)\n",
    "nF = normalise_fishers(all_fishers,all_w,40,1)\n",
    "ef = effective_dimension(nF,len(data))\n",
    "print('D_EFF = ',ef)"
   ],
   "execution_count": 41,
   "outputs": [
    {
     "name": "stdout",
     "output_type": "stream",
     "text": [
      "Fisher  99\n",
      "D_EFF =  tensor([16.2654], dtype=torch.float64, grad_fn=<DivBackward0>)\n"
     ]
    },
    {
     "data": {
      "text/plain": "<Figure size 432x288 with 1 Axes>",
      "image/png": "[encoded data removed]"
     },
     "metadata": {
      "needs_background": "light"
     },
     "output_type": "display_data"
    },
    {
     "data": {
      "text/plain": "<Figure size 432x288 with 1 Axes>",
      "image/png": "[encoded data removed]"
     },
     "metadata": {
      "needs_background": "light"
     },
     "output_type": "display_data"
    },
    {
     "data": {
      "text/plain": "<Figure size 432x288 with 1 Axes>",
      "image/png": "[encoded data removed]"
     },
     "metadata": {
      "needs_background": "light"
     },
     "output_type": "display_data"
    }
   ]
  },
  {
   "cell_type": "markdown",
   "source": [
    "## Figure 8 Reproduction"
   ],
   "metadata": {
    "collapsed": false,
    "pycharm": {
     "name": "#%% md\n"
    }
   }
  },
  {
   "cell_type": "code",
   "execution_count": 45,
   "outputs": [
    {
     "name": "stdout",
     "output_type": "stream",
     "text": [
      "D_EFF =  tensor([9.4004], dtype=torch.float64, grad_fn=<DivBackward0>)\n",
      "Sample  9\r"
     ]
    },
    {
     "ename": "KeyboardInterrupt",
     "evalue": "",
     "output_type": "error",
     "traceback": [
      "\u001B[0;31m---------------------------------------------------------------------------\u001B[0m",
      "\u001B[0;31mKeyboardInterrupt\u001B[0m                         Traceback (most recent call last)",
      "\u001B[0;32m<ipython-input-45-1342a01aeffd>\u001B[0m in \u001B[0;36m<module>\u001B[0;34m\u001B[0m\n\u001B[1;32m      2\u001B[0m \u001B[0mefs\u001B[0m \u001B[0;34m=\u001B[0m \u001B[0;34m[\u001B[0m\u001B[0;34m]\u001B[0m\u001B[0;34m\u001B[0m\u001B[0;34m\u001B[0m\u001B[0m\n\u001B[1;32m      3\u001B[0m \u001B[0;32mfor\u001B[0m \u001B[0mn_iters\u001B[0m \u001B[0;32min\u001B[0m \u001B[0mrange\u001B[0m\u001B[0;34m(\u001B[0m\u001B[0;36m10\u001B[0m\u001B[0;34m,\u001B[0m\u001B[0;36m110\u001B[0m\u001B[0;34m,\u001B[0m\u001B[0;36m10\u001B[0m\u001B[0;34m)\u001B[0m\u001B[0;34m:\u001B[0m\u001B[0;34m\u001B[0m\u001B[0;34m\u001B[0m\u001B[0m\n\u001B[0;32m----> 4\u001B[0;31m     \u001B[0mEV\u001B[0m\u001B[0;34m,\u001B[0m\u001B[0mFR\u001B[0m\u001B[0;34m,\u001B[0m\u001B[0mRank\u001B[0m\u001B[0;34m,\u001B[0m\u001B[0mall_w\u001B[0m\u001B[0;34m,\u001B[0m\u001B[0mall_fishers\u001B[0m \u001B[0;34m=\u001B[0m \u001B[0msample_theta_for_fisher\u001B[0m\u001B[0;34m(\u001B[0m\u001B[0mn_iters\u001B[0m\u001B[0;34m,\u001B[0m\u001B[0mdata\u001B[0m\u001B[0;34m,\u001B[0m\u001B[0mplots\u001B[0m\u001B[0;34m=\u001B[0m\u001B[0;32mFalse\u001B[0m\u001B[0;34m)\u001B[0m\u001B[0;34m\u001B[0m\u001B[0;34m\u001B[0m\u001B[0m\n\u001B[0m\u001B[1;32m      5\u001B[0m     \u001B[0mnF\u001B[0m \u001B[0;34m=\u001B[0m \u001B[0mnormalise_fishers\u001B[0m\u001B[0;34m(\u001B[0m\u001B[0mall_fishers\u001B[0m\u001B[0;34m,\u001B[0m\u001B[0mall_w\u001B[0m\u001B[0;34m,\u001B[0m\u001B[0;36m40\u001B[0m\u001B[0;34m,\u001B[0m\u001B[0;36m1\u001B[0m\u001B[0;34m)\u001B[0m\u001B[0;34m\u001B[0m\u001B[0;34m\u001B[0m\u001B[0m\n\u001B[1;32m      6\u001B[0m     \u001B[0mef\u001B[0m \u001B[0;34m=\u001B[0m \u001B[0meffective_dimension\u001B[0m\u001B[0;34m(\u001B[0m\u001B[0mnF\u001B[0m\u001B[0;34m,\u001B[0m\u001B[0mlen\u001B[0m\u001B[0;34m(\u001B[0m\u001B[0mdata\u001B[0m\u001B[0;34m)\u001B[0m\u001B[0;34m)\u001B[0m\u001B[0;34m\u001B[0m\u001B[0;34m\u001B[0m\u001B[0m\n",
      "\u001B[0;32m<ipython-input-38-1d9ebeac968f>\u001B[0m in \u001B[0;36msample_theta_for_fisher\u001B[0;34m(n_iter, data, plots)\u001B[0m\n\u001B[1;32m      8\u001B[0m       \u001B[0mprint\u001B[0m\u001B[0;34m(\u001B[0m\u001B[0;34m'Sample '\u001B[0m\u001B[0;34m,\u001B[0m\u001B[0mi\u001B[0m\u001B[0;34m,\u001B[0m\u001B[0mend\u001B[0m\u001B[0;34m=\u001B[0m\u001B[0;34m'\\r'\u001B[0m\u001B[0;34m)\u001B[0m\u001B[0;34m\u001B[0m\u001B[0;34m\u001B[0m\u001B[0m\n\u001B[1;32m      9\u001B[0m       \u001B[0mw\u001B[0m \u001B[0;34m=\u001B[0m \u001B[0mtorch\u001B[0m\u001B[0;34m.\u001B[0m\u001B[0mtensor\u001B[0m\u001B[0;34m(\u001B[0m\u001B[0mnp\u001B[0m\u001B[0;34m.\u001B[0m\u001B[0mrandom\u001B[0m\u001B[0;34m.\u001B[0m\u001B[0muniform\u001B[0m\u001B[0;34m(\u001B[0m\u001B[0msize\u001B[0m\u001B[0;34m=\u001B[0m\u001B[0;34m(\u001B[0m\u001B[0;36m40\u001B[0m\u001B[0;34m,\u001B[0m\u001B[0;34m)\u001B[0m\u001B[0;34m,\u001B[0m\u001B[0mlow\u001B[0m\u001B[0;34m=\u001B[0m\u001B[0;34m-\u001B[0m\u001B[0;36m1.0\u001B[0m\u001B[0;34m,\u001B[0m\u001B[0mhigh\u001B[0m\u001B[0;34m=\u001B[0m\u001B[0;36m1.0\u001B[0m\u001B[0;34m)\u001B[0m\u001B[0;34m,\u001B[0m\u001B[0mrequires_grad\u001B[0m\u001B[0;34m=\u001B[0m\u001B[0;32mTrue\u001B[0m\u001B[0;34m)\u001B[0m\u001B[0;34m\u001B[0m\u001B[0;34m\u001B[0m\u001B[0m\n\u001B[0;32m---> 10\u001B[0;31m       \u001B[0mtotal_loss\u001B[0m\u001B[0;34m,\u001B[0m \u001B[0mFisher\u001B[0m \u001B[0;34m=\u001B[0m \u001B[0mloss_avg\u001B[0m\u001B[0;34m(\u001B[0m\u001B[0mdata\u001B[0m\u001B[0;34m,\u001B[0m\u001B[0mw\u001B[0m\u001B[0;34m)\u001B[0m\u001B[0;34m\u001B[0m\u001B[0;34m\u001B[0m\u001B[0m\n\u001B[0m\u001B[1;32m     11\u001B[0m       \u001B[0mEV\u001B[0m \u001B[0;34m=\u001B[0m \u001B[0mnp\u001B[0m\u001B[0;34m.\u001B[0m\u001B[0mappend\u001B[0m\u001B[0;34m(\u001B[0m\u001B[0mEV\u001B[0m\u001B[0;34m,\u001B[0m\u001B[0mtorch\u001B[0m\u001B[0;34m.\u001B[0m\u001B[0meig\u001B[0m\u001B[0;34m(\u001B[0m\u001B[0mFisher\u001B[0m\u001B[0;34m,\u001B[0m \u001B[0meigenvectors\u001B[0m\u001B[0;34m=\u001B[0m\u001B[0;32mFalse\u001B[0m\u001B[0;34m,\u001B[0m  \u001B[0mout\u001B[0m\u001B[0;34m=\u001B[0m\u001B[0;32mNone\u001B[0m\u001B[0;34m)\u001B[0m\u001B[0;34m[\u001B[0m\u001B[0;36m0\u001B[0m\u001B[0;34m]\u001B[0m\u001B[0;34m[\u001B[0m\u001B[0;34m:\u001B[0m\u001B[0;34m,\u001B[0m\u001B[0;36m0\u001B[0m\u001B[0;34m]\u001B[0m\u001B[0;34m.\u001B[0m\u001B[0mdetach\u001B[0m\u001B[0;34m(\u001B[0m\u001B[0;34m)\u001B[0m\u001B[0;34m.\u001B[0m\u001B[0mnumpy\u001B[0m\u001B[0;34m(\u001B[0m\u001B[0;34m)\u001B[0m\u001B[0;34m)\u001B[0m\u001B[0;34m\u001B[0m\u001B[0;34m\u001B[0m\u001B[0m\n\u001B[1;32m     12\u001B[0m       \u001B[0;32mwith\u001B[0m \u001B[0mtorch\u001B[0m\u001B[0;34m.\u001B[0m\u001B[0mno_grad\u001B[0m\u001B[0;34m(\u001B[0m\u001B[0;34m)\u001B[0m\u001B[0;34m:\u001B[0m\u001B[0;34m\u001B[0m\u001B[0;34m\u001B[0m\u001B[0m\n",
      "\u001B[0;32m<ipython-input-37-f871a0d52872>\u001B[0m in \u001B[0;36mloss_avg\u001B[0;34m(data, w)\u001B[0m\n\u001B[1;32m     26\u001B[0m       \u001B[0;31m#loss_tot += loss_single(F.softmax(prediction),y)\u001B[0m\u001B[0;34m\u001B[0m\u001B[0;34m\u001B[0m\u001B[0;34m\u001B[0m\u001B[0m\n\u001B[1;32m     27\u001B[0m       \u001B[0mloss_tot\u001B[0m \u001B[0;34m+=\u001B[0m \u001B[0mF\u001B[0m\u001B[0;34m.\u001B[0m\u001B[0mcross_entropy\u001B[0m\u001B[0;34m(\u001B[0m\u001B[0mprediction\u001B[0m\u001B[0;34m.\u001B[0m\u001B[0mview\u001B[0m\u001B[0;34m(\u001B[0m\u001B[0;36m1\u001B[0m\u001B[0;34m,\u001B[0m\u001B[0;36m2\u001B[0m\u001B[0;34m)\u001B[0m\u001B[0;34m,\u001B[0m\u001B[0my\u001B[0m\u001B[0;34m[\u001B[0m\u001B[0;36m1\u001B[0m\u001B[0;34m]\u001B[0m\u001B[0;34m.\u001B[0m\u001B[0mview\u001B[0m\u001B[0;34m(\u001B[0m\u001B[0;36m1\u001B[0m\u001B[0;34m,\u001B[0m\u001B[0;34m)\u001B[0m\u001B[0;34m)\u001B[0m\u001B[0;34m\u001B[0m\u001B[0;34m\u001B[0m\u001B[0m\n\u001B[0;32m---> 28\u001B[0;31m       \u001B[0mFisher\u001B[0m \u001B[0;34m+=\u001B[0m \u001B[0mfisher\u001B[0m\u001B[0;34m(\u001B[0m\u001B[0mloss_single\u001B[0m\u001B[0;34m(\u001B[0m\u001B[0mprediction\u001B[0m\u001B[0;34m,\u001B[0m\u001B[0my\u001B[0m\u001B[0;34m)\u001B[0m\u001B[0;34m,\u001B[0m\u001B[0mw\u001B[0m\u001B[0;34m)\u001B[0m\u001B[0;34m\u001B[0m\u001B[0;34m\u001B[0m\u001B[0m\n\u001B[0m\u001B[1;32m     29\u001B[0m   \u001B[0;31m#print(Fisher)\u001B[0m\u001B[0;34m\u001B[0m\u001B[0;34m\u001B[0m\u001B[0;34m\u001B[0m\u001B[0m\n\u001B[1;32m     30\u001B[0m   \u001B[0;32mreturn\u001B[0m \u001B[0mloss_tot\u001B[0m\u001B[0;34m,\u001B[0m\u001B[0mFisher\u001B[0m\u001B[0;34m/\u001B[0m\u001B[0mn_samples\u001B[0m\u001B[0;34m\u001B[0m\u001B[0;34m\u001B[0m\u001B[0m\n",
      "\u001B[0;32m<ipython-input-35-0b38de6dfd8c>\u001B[0m in \u001B[0;36mfisher\u001B[0;34m(y, x)\u001B[0m\n\u001B[1;32m     14\u001B[0m \u001B[0;34m\u001B[0m\u001B[0m\n\u001B[1;32m     15\u001B[0m \u001B[0;32mdef\u001B[0m \u001B[0mfisher\u001B[0m\u001B[0;34m(\u001B[0m\u001B[0my\u001B[0m\u001B[0;34m,\u001B[0m\u001B[0mx\u001B[0m\u001B[0;34m)\u001B[0m\u001B[0;34m:\u001B[0m\u001B[0;34m\u001B[0m\u001B[0;34m\u001B[0m\u001B[0m\n\u001B[0;32m---> 16\u001B[0;31m     \u001B[0mj\u001B[0m \u001B[0;34m=\u001B[0m \u001B[0mjacobian\u001B[0m\u001B[0;34m(\u001B[0m\u001B[0my\u001B[0m\u001B[0;34m,\u001B[0m \u001B[0mx\u001B[0m\u001B[0;34m,\u001B[0m \u001B[0mcreate_graph\u001B[0m\u001B[0;34m=\u001B[0m\u001B[0;32mTrue\u001B[0m\u001B[0;34m)\u001B[0m\u001B[0;34m\u001B[0m\u001B[0;34m\u001B[0m\u001B[0m\n\u001B[0m\u001B[1;32m     17\u001B[0m \u001B[0;34m\u001B[0m\u001B[0m\n\u001B[1;32m     18\u001B[0m     \u001B[0;32mreturn\u001B[0m \u001B[0mtorch\u001B[0m\u001B[0;34m.\u001B[0m\u001B[0mouter\u001B[0m\u001B[0;34m(\u001B[0m\u001B[0mj\u001B[0m\u001B[0;34m,\u001B[0m\u001B[0mj\u001B[0m\u001B[0;34m)\u001B[0m\u001B[0;34m\u001B[0m\u001B[0;34m\u001B[0m\u001B[0m\n",
      "\u001B[0;32m<ipython-input-35-0b38de6dfd8c>\u001B[0m in \u001B[0;36mjacobian\u001B[0;34m(y, x, create_graph)\u001B[0m\n\u001B[1;32m      5\u001B[0m     \u001B[0;32mfor\u001B[0m \u001B[0mi\u001B[0m \u001B[0;32min\u001B[0m \u001B[0mrange\u001B[0m\u001B[0;34m(\u001B[0m\u001B[0mlen\u001B[0m\u001B[0;34m(\u001B[0m\u001B[0mflat_y\u001B[0m\u001B[0;34m)\u001B[0m\u001B[0;34m)\u001B[0m\u001B[0;34m:\u001B[0m\u001B[0;34m\u001B[0m\u001B[0;34m\u001B[0m\u001B[0m\n\u001B[1;32m      6\u001B[0m         \u001B[0mgrad_y\u001B[0m\u001B[0;34m[\u001B[0m\u001B[0mi\u001B[0m\u001B[0;34m]\u001B[0m \u001B[0;34m=\u001B[0m \u001B[0;36m1.\u001B[0m\u001B[0;34m\u001B[0m\u001B[0;34m\u001B[0m\u001B[0m\n\u001B[0;32m----> 7\u001B[0;31m         \u001B[0mgrad_x\u001B[0m\u001B[0;34m,\u001B[0m \u001B[0;34m=\u001B[0m \u001B[0mtorch\u001B[0m\u001B[0;34m.\u001B[0m\u001B[0mautograd\u001B[0m\u001B[0;34m.\u001B[0m\u001B[0mgrad\u001B[0m\u001B[0;34m(\u001B[0m\u001B[0mflat_y\u001B[0m\u001B[0;34m,\u001B[0m \u001B[0mx\u001B[0m\u001B[0;34m,\u001B[0m \u001B[0mgrad_y\u001B[0m\u001B[0;34m,\u001B[0m \u001B[0mretain_graph\u001B[0m\u001B[0;34m=\u001B[0m\u001B[0;32mTrue\u001B[0m\u001B[0;34m,\u001B[0m \u001B[0mcreate_graph\u001B[0m\u001B[0;34m=\u001B[0m\u001B[0mcreate_graph\u001B[0m\u001B[0;34m)\u001B[0m\u001B[0;34m\u001B[0m\u001B[0;34m\u001B[0m\u001B[0m\n\u001B[0m\u001B[1;32m      8\u001B[0m         \u001B[0mjac\u001B[0m\u001B[0;34m.\u001B[0m\u001B[0mappend\u001B[0m\u001B[0;34m(\u001B[0m\u001B[0mgrad_x\u001B[0m\u001B[0;34m.\u001B[0m\u001B[0mreshape\u001B[0m\u001B[0;34m(\u001B[0m\u001B[0mx\u001B[0m\u001B[0;34m.\u001B[0m\u001B[0mshape\u001B[0m\u001B[0;34m)\u001B[0m\u001B[0;34m)\u001B[0m\u001B[0;34m\u001B[0m\u001B[0;34m\u001B[0m\u001B[0m\n\u001B[1;32m      9\u001B[0m         \u001B[0mgrad_y\u001B[0m\u001B[0;34m[\u001B[0m\u001B[0mi\u001B[0m\u001B[0;34m]\u001B[0m \u001B[0;34m=\u001B[0m \u001B[0;36m0.\u001B[0m\u001B[0;34m\u001B[0m\u001B[0;34m\u001B[0m\u001B[0m\n",
      "\u001B[0;32m~/opt/anaconda3/lib/python3.7/site-packages/torch/autograd/__init__.py\u001B[0m in \u001B[0;36mgrad\u001B[0;34m(outputs, inputs, grad_outputs, retain_graph, create_graph, only_inputs, allow_unused)\u001B[0m\n\u001B[1;32m    194\u001B[0m                       \"parts of the graph, please use torch.autograd.backward.\")\n\u001B[1;32m    195\u001B[0m \u001B[0;34m\u001B[0m\u001B[0m\n\u001B[0;32m--> 196\u001B[0;31m     \u001B[0mgrad_outputs_\u001B[0m \u001B[0;34m=\u001B[0m \u001B[0m_tensor_or_tensors_to_tuple\u001B[0m\u001B[0;34m(\u001B[0m\u001B[0mgrad_outputs\u001B[0m\u001B[0;34m,\u001B[0m \u001B[0mlen\u001B[0m\u001B[0;34m(\u001B[0m\u001B[0moutputs\u001B[0m\u001B[0;34m)\u001B[0m\u001B[0;34m)\u001B[0m\u001B[0;34m\u001B[0m\u001B[0;34m\u001B[0m\u001B[0m\n\u001B[0m\u001B[1;32m    197\u001B[0m     \u001B[0mgrad_outputs_\u001B[0m \u001B[0;34m=\u001B[0m \u001B[0m_make_grads\u001B[0m\u001B[0;34m(\u001B[0m\u001B[0moutputs\u001B[0m\u001B[0;34m,\u001B[0m \u001B[0mgrad_outputs_\u001B[0m\u001B[0;34m)\u001B[0m\u001B[0;34m\u001B[0m\u001B[0;34m\u001B[0m\u001B[0m\n\u001B[1;32m    198\u001B[0m \u001B[0;34m\u001B[0m\u001B[0m\n",
      "\u001B[0;31mKeyboardInterrupt\u001B[0m: "
     ]
    }
   ],
   "source": [
    "data = create_data(10000)\n",
    "efs = []\n",
    "for n_iters in range(10,110,10):\n",
    "    EV,FR,Rank,all_w,all_fishers = sample_theta_for_fisher(n_iters,data,plots=False)\n",
    "    nF = normalise_fishers(all_fishers,all_w,40,1)\n",
    "    ef = effective_dimension(nF,len(data))\n",
    "    print('D_EFF = ',ef)\n",
    "    efs.append(ef)"
   ],
   "metadata": {
    "collapsed": false,
    "pycharm": {
     "name": "#%%\n"
    }
   }
  },
  {
   "cell_type": "code",
   "execution_count": 42,
   "outputs": [],
   "source": [],
   "metadata": {
    "collapsed": false,
    "pycharm": {
     "name": "#%%\n"
    }
   }
  }
 ]
}